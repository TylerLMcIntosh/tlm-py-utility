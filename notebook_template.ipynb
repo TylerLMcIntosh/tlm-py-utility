{
 "cells": [
  {
   "cell_type": "markdown",
   "id": "e439ef15",
   "metadata": {},
   "source": [
    "# Script overview\n",
    "\n",
    "# Tyler L. McIntosh"
   ]
  },
  {
   "cell_type": "code",
   "execution_count": null,
   "id": "1971d3ee",
   "metadata": {},
   "outputs": [],
   "source": [
    "import os\n",
    "\n",
    "from find_set_root import find_set_project_root\n",
    "PROJECT_ROOT = find_set_project_root()\n",
    "print(f\"Project root found at: {PROJECT_ROOT}\")\n",
    "import utils.functions as uf\n",
    "\n",
    "\n",
    "DIR_RAW = os.path.join(PROJECT_ROOT, 'data', 'raw')\n",
    "DIR_DERIVED = os.path.join(PROJECT_ROOT, 'data', 'derived')\n",
    "uf.dir_ensure([DIR_RAW, DIR_DERIVED])"
   ]
  }
 ],
 "metadata": {
  "language_info": {
   "name": "python"
  }
 },
 "nbformat": 4,
 "nbformat_minor": 5
}
